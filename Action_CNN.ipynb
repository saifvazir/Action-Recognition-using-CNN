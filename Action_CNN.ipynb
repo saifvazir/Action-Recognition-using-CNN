{
 "cells": [
  {
   "cell_type": "markdown",
   "metadata": {},
   "source": [
    "# Training a ConvNet PyTorch\n",
    "\n",
    "In this notebook, you'll learn how to use the powerful PyTorch framework to specify a conv net architecture and train it on the human action recognition dataset. \n"
   ]
  },
  {
   "cell_type": "code",
   "execution_count": 1,
   "metadata": {
    "collapsed": true
   },
   "outputs": [],
   "source": [
    "import torch\n",
    "import torch.nn as nn\n",
    "import torch.optim as optim\n",
    "from torch.autograd import Variable\n",
    "from torch.utils.data import DataLoader,sampler,Dataset\n",
    "import torchvision.datasets as dset\n",
    "import torchvision.transforms as T\n",
    "import timeit\n",
    "from PIL import Image\n",
    "import os\n",
    "import numpy as np\n",
    "import scipy.io\n"
   ]
  },
  {
   "cell_type": "markdown",
   "metadata": {},
   "source": [
    "## What's this PyTorch business?\n",
    "\n",
    "* When using a framework like PyTorch or TensorFlow you can harness the power of the GPU for your own custom neural network architectures without having to write CUDA code directly.\n",
    "* this notebook will walk you through much of what you need to do to train models using pytorch. if you want to learn more or need further clarification on topics that aren't fully explained here, here are 2 good Pytorch tutorials. 1): http://pytorch.org/tutorials/beginner/deep_learning_60min_blitz.html 2)http://pytorch.org/tutorials/beginner/pytorch_with_examples.html\n",
    "* It's not necessary to have a GPU for this homework, using a GPU can make your code run faster.\n"
   ]
  },
  {
   "cell_type": "markdown",
   "metadata": {},
   "source": [
    "## Load Datasets\n",
    "\n",
    "In this part, we will load the action recognition dataset for the neural network. In order to load data from our custom dataset, we need to write a custom Dataloader. If you put hw6_data.mat, /valClips,/trainClips,/testClips under the folder of ./data/ , you do not need to change anything in this part."
   ]
  },
  {
   "cell_type": "markdown",
   "metadata": {},
   "source": [
    "First, load the labels of the dataset, you should write your path of the hw6_data.mat file."
   ]
  },
  {
   "cell_type": "code",
   "execution_count": 2,
   "metadata": {
    "collapsed": false
   },
   "outputs": [
    {
     "name": "stdout",
     "output_type": "stream",
     "text": [
      "7770\n",
      "2230\n"
     ]
    }
   ],
   "source": [
    "label_mat=scipy.io.loadmat('./data/hw6_data.mat')\n",
    "label_train=label_mat['trLb']\n",
    "print(len(label_train))\n",
    "label_val=label_mat['valLb']\n",
    "print(len(label_val))"
   ]
  },
  {
   "cell_type": "markdown",
   "metadata": {},
   "source": [
    "### Dataset class\n",
    "\n",
    "torch.utils.data.Dataset is an abstract class representing a dataset. The custom dataset should inherit Dataset and override the following methods:\n",
    "\n",
    "    __len__ so that len(dataset) returns the size of the dataset.\n",
    "    __getitem__ to support the indexing such that dataset[i] can be used to get ith sample\n",
    "\n",
    "Let’s create a dataset class for our action recognition dataset. We will read images in __getitem__. This is memory efficient because all the images are not stored in the memory at once but read as required.\n",
    "\n",
    "Sample of our dataset will be a dict {'image':image,'img_path':img_path,'Label':Label}. Our datset will take an optional argument transform so that any required processing can be applied on the sample. "
   ]
  },
  {
   "cell_type": "code",
   "execution_count": 3,
   "metadata": {
    "collapsed": true
   },
   "outputs": [],
   "source": [
    "\n",
    "class ActionDataset(Dataset):\n",
    "    \"\"\"Action dataset.\"\"\"\n",
    "\n",
    "    def __init__(self,  root_dir,labels=[], transform=None):\n",
    "        \"\"\"\n",
    "        Args:\n",
    "            root_dir (string): Directory with all the images.\n",
    "            labels(list): labels if images.\n",
    "            transform (callable, optional): Optional transform to be applied on a sample.\n",
    "        \"\"\"\n",
    "        self.root_dir = root_dir\n",
    "        self.transform = transform\n",
    "        self.length=len(os.listdir(self.root_dir))\n",
    "        self.labels=labels\n",
    "    def __len__(self):\n",
    "        return self.length*3\n",
    "\n",
    "    def __getitem__(self, idx):\n",
    "        \n",
    "        folder=int(idx/3)+1\n",
    "        imidx=idx%3+1\n",
    "        folder=format(folder,'05d')\n",
    "        imgname=str(imidx)+'.jpg'\n",
    "        img_path = os.path.join(self.root_dir,\n",
    "                                folder,imgname)\n",
    "        image = Image.open(img_path)\n",
    "        if len(self.labels)!=0:\n",
    "            Label=self.labels[int(idx/3)][0]-1\n",
    "        if self.transform:\n",
    "            image = self.transform(image)\n",
    "        if len(self.labels)!=0:\n",
    "            sample={'image':image,'img_path':img_path,'Label':Label}\n",
    "        else:\n",
    "            sample={'image':image,'img_path':img_path}\n",
    "        return sample\n",
    "  "
   ]
  },
  {
   "cell_type": "markdown",
   "metadata": {},
   "source": [
    "Iterating over the dataset by a for loop."
   ]
  },
  {
   "cell_type": "code",
   "execution_count": 4,
   "metadata": {
    "collapsed": false
   },
   "outputs": [
    {
     "name": "stdout",
     "output_type": "stream",
     "text": [
      "torch.Size([3, 64, 64])\n",
      "0.0\n",
      "./data/trainClips/00001\\1.jpg\n",
      "torch.Size([3, 64, 64])\n",
      "0.0\n",
      "./data/trainClips/00001\\2.jpg\n",
      "torch.Size([3, 64, 64])\n",
      "0.0\n",
      "./data/trainClips/00001\\3.jpg\n",
      "torch.Size([3, 64, 64])\n",
      "0.0\n",
      "./data/trainClips/00002\\1.jpg\n",
      "torch.Size([3, 64, 64])\n",
      "0.0\n",
      "./data/trainClips/00002\\2.jpg\n",
      "torch.Size([3, 64, 64])\n",
      "0.0\n",
      "./data/trainClips/00002\\3.jpg\n",
      "torch.Size([3, 64, 64])\n",
      "0.0\n",
      "./data/trainClips/00003\\1.jpg\n",
      "torch.Size([3, 64, 64])\n",
      "0.0\n",
      "./data/trainClips/00003\\2.jpg\n",
      "torch.Size([3, 64, 64])\n",
      "0.0\n",
      "./data/trainClips/00003\\3.jpg\n",
      "torch.Size([3, 64, 64])\n",
      "0.0\n",
      "./data/trainClips/00004\\1.jpg\n"
     ]
    }
   ],
   "source": [
    "image_dataset=ActionDataset(root_dir='./data/trainClips/',\\\n",
    "                            labels=label_train,transform=T.ToTensor())\n",
    "\n",
    "#iterating though the dataset\n",
    "for i in range(10):\n",
    "    sample=image_dataset[i]\n",
    "    print(sample['image'].shape)\n",
    "    print(sample['Label'])\n",
    "    print(sample['img_path'])\n",
    "     \n",
    "   "
   ]
  },
  {
   "cell_type": "markdown",
   "metadata": {},
   "source": [
    "We can iterate over the created dataset with a 'for' loop as before. However, we are losing a lot of features by using a simple for loop to iterate over the data. In particular, we are missing out on:\n",
    "\n",
    "* Batching the data\n",
    "* Shuffling the data\n",
    "* Load the data in parallel using multiprocessing workers.\n",
    "\n",
    "torch.utils.data.DataLoader is an iterator which provides all these features. "
   ]
  },
  {
   "cell_type": "code",
   "execution_count": 5,
   "metadata": {
    "collapsed": false
   },
   "outputs": [
    {
     "name": "stdout",
     "output_type": "stream",
     "text": [
      "0 torch.Size([4, 3, 64, 64]) ['./data/trainClips/05733\\\\1.jpg', './data/trainClips/02093\\\\3.jpg', './data/trainClips/07071\\\\1.jpg', './data/trainClips/07326\\\\2.jpg'] tensor([7., 2., 8., 9.], dtype=torch.float64)\n",
      "1 torch.Size([4, 3, 64, 64]) ['./data/trainClips/00385\\\\3.jpg', './data/trainClips/07677\\\\3.jpg', './data/trainClips/02686\\\\1.jpg', './data/trainClips/07568\\\\1.jpg'] tensor([0., 9., 3., 9.], dtype=torch.float64)\n",
      "2 torch.Size([4, 3, 64, 64]) ['./data/trainClips/04683\\\\3.jpg', './data/trainClips/02028\\\\1.jpg', './data/trainClips/03237\\\\3.jpg', './data/trainClips/03585\\\\3.jpg'] tensor([5., 2., 3., 4.], dtype=torch.float64)\n",
      "3 torch.Size([4, 3, 64, 64]) ['./data/trainClips/06609\\\\2.jpg', './data/trainClips/02160\\\\1.jpg', './data/trainClips/01705\\\\2.jpg', './data/trainClips/07179\\\\2.jpg'] tensor([8., 2., 1., 9.], dtype=torch.float64)\n",
      "4 torch.Size([4, 3, 64, 64]) ['./data/trainClips/00595\\\\2.jpg', './data/trainClips/04136\\\\2.jpg', './data/trainClips/01943\\\\3.jpg', './data/trainClips/07382\\\\1.jpg'] tensor([0., 4., 2., 9.], dtype=torch.float64)\n",
      "5 torch.Size([4, 3, 64, 64]) ['./data/trainClips/06713\\\\1.jpg', './data/trainClips/06466\\\\1.jpg', './data/trainClips/01924\\\\3.jpg', './data/trainClips/05831\\\\3.jpg'] tensor([8., 7., 2., 7.], dtype=torch.float64)\n",
      "6 torch.Size([4, 3, 64, 64]) ['./data/trainClips/01444\\\\1.jpg', './data/trainClips/04609\\\\3.jpg', './data/trainClips/04294\\\\2.jpg', './data/trainClips/02235\\\\1.jpg'] tensor([1., 5., 5., 2.], dtype=torch.float64)\n",
      "7 torch.Size([4, 3, 64, 64]) ['./data/trainClips/05750\\\\2.jpg', './data/trainClips/04719\\\\2.jpg', './data/trainClips/02472\\\\1.jpg', './data/trainClips/04465\\\\1.jpg'] tensor([7., 5., 2., 5.], dtype=torch.float64)\n",
      "8 torch.Size([4, 3, 64, 64]) ['./data/trainClips/07492\\\\1.jpg', './data/trainClips/00720\\\\1.jpg', './data/trainClips/00844\\\\2.jpg', './data/trainClips/06572\\\\3.jpg'] tensor([9., 0., 0., 8.], dtype=torch.float64)\n",
      "9 torch.Size([4, 3, 64, 64]) ['./data/trainClips/02268\\\\1.jpg', './data/trainClips/07415\\\\2.jpg', './data/trainClips/04057\\\\1.jpg', './data/trainClips/06125\\\\1.jpg'] tensor([2., 9., 4., 7.], dtype=torch.float64)\n",
      "10 torch.Size([4, 3, 64, 64]) ['./data/trainClips/05670\\\\2.jpg', './data/trainClips/02352\\\\2.jpg', './data/trainClips/00487\\\\2.jpg', './data/trainClips/01452\\\\1.jpg'] tensor([7., 2., 0., 1.], dtype=torch.float64)\n",
      "11 torch.Size([4, 3, 64, 64]) ['./data/trainClips/05162\\\\2.jpg', './data/trainClips/02355\\\\1.jpg', './data/trainClips/03592\\\\1.jpg', './data/trainClips/04348\\\\1.jpg'] tensor([6., 2., 4., 5.], dtype=torch.float64)\n",
      "12 torch.Size([4, 3, 64, 64]) ['./data/trainClips/03433\\\\1.jpg', './data/trainClips/06771\\\\3.jpg', './data/trainClips/00319\\\\3.jpg', './data/trainClips/04047\\\\3.jpg'] tensor([3., 8., 0., 4.], dtype=torch.float64)\n",
      "13 torch.Size([4, 3, 64, 64]) ['./data/trainClips/06834\\\\2.jpg', './data/trainClips/03201\\\\2.jpg', './data/trainClips/06895\\\\3.jpg', './data/trainClips/07134\\\\2.jpg'] tensor([8., 3., 8., 9.], dtype=torch.float64)\n",
      "14 torch.Size([4, 3, 64, 64]) ['./data/trainClips/04913\\\\3.jpg', './data/trainClips/07687\\\\2.jpg', './data/trainClips/05056\\\\3.jpg', './data/trainClips/05060\\\\2.jpg'] tensor([5., 9., 6., 6.], dtype=torch.float64)\n",
      "15 torch.Size([4, 3, 64, 64]) ['./data/trainClips/00965\\\\2.jpg', './data/trainClips/03660\\\\3.jpg', './data/trainClips/05868\\\\2.jpg', './data/trainClips/02007\\\\1.jpg'] tensor([1., 4., 7., 2.], dtype=torch.float64)\n",
      "16 torch.Size([4, 3, 64, 64]) ['./data/trainClips/05281\\\\1.jpg', './data/trainClips/04763\\\\1.jpg', './data/trainClips/07399\\\\2.jpg', './data/trainClips/00471\\\\1.jpg'] tensor([6., 5., 9., 0.], dtype=torch.float64)\n",
      "17 torch.Size([4, 3, 64, 64]) ['./data/trainClips/05610\\\\1.jpg', './data/trainClips/06979\\\\2.jpg', './data/trainClips/04639\\\\3.jpg', './data/trainClips/01861\\\\3.jpg'] tensor([6., 8., 5., 2.], dtype=torch.float64)\n",
      "18 torch.Size([4, 3, 64, 64]) ['./data/trainClips/02591\\\\2.jpg', './data/trainClips/04542\\\\1.jpg', './data/trainClips/04937\\\\2.jpg', './data/trainClips/05704\\\\3.jpg'] tensor([2., 5., 5., 7.], dtype=torch.float64)\n",
      "19 torch.Size([4, 3, 64, 64]) ['./data/trainClips/00872\\\\1.jpg', './data/trainClips/00723\\\\2.jpg', './data/trainClips/02995\\\\2.jpg', './data/trainClips/05723\\\\3.jpg'] tensor([0., 0., 3., 7.], dtype=torch.float64)\n",
      "20 torch.Size([4, 3, 64, 64]) ['./data/trainClips/00600\\\\1.jpg', './data/trainClips/00922\\\\2.jpg', './data/trainClips/01903\\\\3.jpg', './data/trainClips/07628\\\\3.jpg'] tensor([0., 1., 2., 9.], dtype=torch.float64)\n",
      "21 torch.Size([4, 3, 64, 64]) ['./data/trainClips/05124\\\\2.jpg', './data/trainClips/07389\\\\2.jpg', './data/trainClips/04488\\\\3.jpg', './data/trainClips/00134\\\\1.jpg'] tensor([6., 9., 5., 0.], dtype=torch.float64)\n"
     ]
    }
   ],
   "source": [
    "image_dataloader = DataLoader(image_dataset, batch_size=4,\n",
    "                        shuffle=True, num_workers=0)\n",
    "\n",
    "\n",
    "for i,sample in enumerate(image_dataloader):\n",
    "    sample['image']=sample['image']\n",
    "    print(i,sample['image'].shape,sample['img_path'],sample['Label'])\n",
    "    if i>20: \n",
    "        break"
   ]
  },
  {
   "cell_type": "markdown",
   "metadata": {},
   "source": [
    "Dataloaders for the training, validationg and testing set. "
   ]
  },
  {
   "cell_type": "code",
   "execution_count": 6,
   "metadata": {
    "collapsed": true
   },
   "outputs": [],
   "source": [
    "image_dataset_train=ActionDataset(root_dir='./data/trainClips/',labels=label_train,transform=T.ToTensor())\n",
    "\n",
    "image_dataloader_train = DataLoader(image_dataset_train, batch_size=32,\n",
    "                        shuffle=True, num_workers=0)\n",
    "image_dataset_val=ActionDataset(root_dir='./data/valClips/',labels=label_val,transform=T.ToTensor())\n",
    "\n",
    "image_dataloader_val = DataLoader(image_dataset_val, batch_size=32,\n",
    "                        shuffle=False, num_workers=0)\n",
    "image_dataset_test=ActionDataset(root_dir='./data/testClips/',labels=[],transform=T.ToTensor())\n",
    "\n",
    "image_dataloader_test = DataLoader(image_dataset_test, batch_size=32,\n",
    "                        shuffle=False, num_workers=0)"
   ]
  },
  {
   "cell_type": "code",
   "execution_count": 7,
   "metadata": {
    "collapsed": true
   },
   "outputs": [],
   "source": [
    "dtype = torch.FloatTensor # the CPU datatype\n",
    "# Constant to control how frequently we print train loss\n",
    "print_every = 100\n",
    "# This is a little utility that we'll use to reset the model\n",
    "# if we want to re-initialize all our parameters\n",
    "def reset(m):\n",
    "    if hasattr(m, 'reset_parameters'):\n",
    "        m.reset_parameters()"
   ]
  },
  {
   "cell_type": "markdown",
   "metadata": {},
   "source": [
    "## Example Model\n",
    "\n",
    "### Some assorted tidbits\n",
    "\n",
    "Let's start by looking at a simple model. First, note that PyTorch operates on Tensors, which are n-dimensional arrays functionally analogous to numpy's ndarrays, with the additional feature that they can be used for computations on GPUs.\n",
    "\n",
    "We'll provide you with a Flatten function, which we explain here. Remember that our image data (and more relevantly, our intermediate feature maps) are initially N x C x H x W, where:\n",
    "* N is the number of datapoints\n",
    "* C is the number of image channels. \n",
    "* H is the height of the intermediate feature map in pixels\n",
    "* W is the height of the intermediate feature map in pixels\n",
    "\n",
    "This is the right way to represent the data when we are doing something like a 2D convolution, that needs spatial understanding of where the intermediate features are relative to each other. When we input  data into fully connected affine layers, however, we want each datapoint to be represented by a single vector -- it's no longer useful to segregate the different channels, rows, and columns of the data. So, we use a \"Flatten\" operation to collapse the C x H x W values per representation into a single long vector. The Flatten function below first reads in the N, C, H, and W values from a given batch of data, and then returns a \"view\" of that data. \"View\" is analogous to numpy's \"reshape\" method: it reshapes x's dimensions to be N x ??, where ?? is allowed to be anything (in this case, it will be C x H x W, but we don't need to specify that explicitly). "
   ]
  },
  {
   "cell_type": "code",
   "execution_count": 8,
   "metadata": {
    "collapsed": true
   },
   "outputs": [],
   "source": [
    "class Flatten(nn.Module):\n",
    "    def forward(self, x):\n",
    "        N, C, H, W = x.size() # read in N, C, H, W\n",
    "        return x.view(N, -1)  # \"flatten\" the C * H * W values into a single vector per image"
   ]
  },
  {
   "cell_type": "markdown",
   "metadata": {},
   "source": [
    "### The example model itself\n",
    "\n",
    "The first step to training your own model is defining its architecture.\n",
    "\n",
    "Here's an example of a convolutional neural network defined in PyTorch -- try to understand what each line is doing, remembering that each layer is composed upon the previous layer. We haven't trained anything yet - that'll come next - for now, we want you to understand how everything gets set up.  nn.Sequential is a container which applies each layer\n",
    "one after the other.\n",
    "\n",
    "In this example, you see 2D convolutional layers (Conv2d), ReLU activations, and fully-connected layers (Linear). You also see the Cross-Entropy loss function, and the Adam optimizer being used. \n",
    "\n",
    "Make sure you understand why the parameters of the Linear layer are 10092 and 10.\n"
   ]
  },
  {
   "cell_type": "code",
   "execution_count": 9,
   "metadata": {
    "collapsed": true
   },
   "outputs": [],
   "source": [
    "# Here's where we define the architecture of the model... \n",
    "simple_model = nn.Sequential(\n",
    "                nn.Conv2d(3, 32, kernel_size=7, stride=2),\n",
    "                nn.ReLU(inplace=True),\n",
    "                Flatten(), # see above for explanation\n",
    "                nn.Linear(26912, 10), # affine layer\n",
    "              )\n",
    "\n",
    "# Set the type of all data in this model to be FloatTensor \n",
    "simple_model.type(dtype)\n",
    "\n",
    "loss_fn = nn.CrossEntropyLoss().type(dtype)\n",
    "optimizer = optim.Adam(simple_model.parameters(), lr=1e-2) # lr sets the learning rate of the optimizer"
   ]
  },
  {
   "cell_type": "markdown",
   "metadata": {},
   "source": [
    "PyTorch supports many other layer types, loss functions, and optimizers - you will experiment with these next. Here's the official API documentation for these (if any of the parameters used above were unclear, this resource will also be helpful). \n",
    "\n",
    "* Layers: http://pytorch.org/docs/nn.html\n",
    "* Activations: http://pytorch.org/docs/nn.html#non-linear-activations\n",
    "* Loss functions: http://pytorch.org/docs/nn.html#loss-functions\n",
    "* Optimizers: http://pytorch.org/docs/optim.html#algorithms"
   ]
  },
  {
   "cell_type": "markdown",
   "metadata": {},
   "source": [
    "## Training a specific model\n",
    "\n",
    "In this section, we're going to specify a model for you to construct. The goal here isn't to get good performance (that'll be next), but instead to get comfortable with understanding the PyTorch documentation and configuring your own model. \n",
    "\n",
    "Using the code provided above as guidance, and using the following PyTorch documentation, specify a model with the following architecture:\n",
    "\n",
    "* 7x7 Convolutional Layer with 8 filters and stride of 1\n",
    "* ReLU Activation Layer\n",
    "* 2x2 Max Pooling layer with a stride of 2\n",
    "* 7x7 Convolutional Layer with 16 filters and stride of 1\n",
    "* ReLU Activation Layer\n",
    "* 2x2 Max Pooling layer with a stride of 2\n",
    "* Flatten the feature map\n",
    "* ReLU Activation Layer\n",
    "* Affine layer to map input units to 10 outputs, you need to figure out the input size here.\n"
   ]
  },
  {
   "cell_type": "code",
   "execution_count": 10,
   "metadata": {
    "collapsed": true
   },
   "outputs": [],
   "source": [
    "fixed_model_base = nn.Sequential( \n",
    "                nn.Conv2d(3, 8, kernel_size=7, stride=1),\n",
    "                nn.ReLU(inplace=True),\n",
    "                nn.MaxPool2d(kernel_size=2,stride=2),\n",
    "                nn.Conv2d(8, 16, kernel_size=7, stride=1),\n",
    "                nn.ReLU(inplace=True),\n",
    "                nn.MaxPool2d(kernel_size=2,stride=2),\n",
    "                Flatten(),\n",
    "                nn.ReLU(inplace=True),\n",
    "                nn.Linear(1936, 10),\n",
    "            )\n",
    "fixed_model = fixed_model_base.type(dtype)\n",
    "\n"
   ]
  },
  {
   "cell_type": "markdown",
   "metadata": {},
   "source": [
    "To make sure you're doing the right thing, use the following tool to check the dimensionality of your output (it should be 32 x 10, since our batches have size 32 and the output of the final affine layer should be 10, corresponding to our 10 classes):"
   ]
  },
  {
   "cell_type": "code",
   "execution_count": 11,
   "metadata": {
    "collapsed": false
   },
   "outputs": [
    {
     "name": "stdout",
     "output_type": "stream",
     "text": [
      "[32 10]\n"
     ]
    },
    {
     "data": {
      "text/plain": [
       "True"
      ]
     },
     "execution_count": 11,
     "metadata": {},
     "output_type": "execute_result"
    }
   ],
   "source": [
    "## Now we're going to feed a random batch into the model you defined and make sure the output is the right size\n",
    "x = torch.randn(32, 3, 64, 64).type(dtype)\n",
    "x_var = Variable(x.type(dtype)) # Construct a PyTorch Variable out of your input data\n",
    "ans = fixed_model(x_var)        # Feed it through the model! \n",
    "\n",
    "# Check to make sure what comes out of your model\n",
    "# is the right dimensionality... this should be True\n",
    "# if you've done everything correctly\n",
    "print(np.array(ans.size()))\n",
    "np.array_equal(np.array(ans.size()), np.array([32, 10]))   \n"
   ]
  },
  {
   "cell_type": "markdown",
   "metadata": {},
   "source": [
    "### Train the model.\n",
    "\n",
    "Now that you've seen how to define a model and do a single forward pass of some data through it, let's  walk through how you'd actually train one whole epoch over your training data (using the fixed_model_base we provided above).\n",
    "\n",
    "Make sure you understand how each PyTorch function used below corresponds to what you implemented in your custom neural network implementation.\n",
    "\n",
    "Note that because we are not resetting the weights anywhere below, if you run the cell multiple times, you are effectively training multiple epochs (so your performance should improve).\n",
    "\n",
    "First, set up an RMSprop optimizer (using a 1e-4 learning rate) and a cross-entropy loss function:"
   ]
  },
  {
   "cell_type": "code",
   "execution_count": 12,
   "metadata": {
    "collapsed": true
   },
   "outputs": [],
   "source": [
    "################ 2nd TODO  (5 points)##################\n",
    "optimizer = optim.RMSprop(fixed_model_base.parameters(),lr=1e-4)\n",
    "loss_fn = nn.CrossEntropyLoss().type(dtype)\n"
   ]
  },
  {
   "cell_type": "code",
   "execution_count": 13,
   "metadata": {
    "collapsed": false
   },
   "outputs": [
    {
     "name": "stdout",
     "output_type": "stream",
     "text": [
      "t = 100, loss = 1.7182\n",
      "t = 200, loss = 1.6017\n",
      "t = 300, loss = 1.4445\n",
      "t = 400, loss = 1.3810\n",
      "t = 500, loss = 1.3469\n",
      "t = 600, loss = 1.4861\n",
      "t = 700, loss = 1.1222\n"
     ]
    },
    {
     "name": "stderr",
     "output_type": "stream",
     "text": [
      "c:\\users\\saif\\.py36env\\lib\\site-packages\\ipykernel\\__main__.py:20: UserWarning: invalid index of a 0-dim tensor. This will be an error in PyTorch 0.5. Use tensor.item() to convert a 0-dim tensor to a Python number\n"
     ]
    }
   ],
   "source": [
    "# This sets the model in \"training\" mode. \n",
    "# This is relevant for some layers that may have different behavior\n",
    "# in training mode vs testing mode, such as Dropout and BatchNorm. \n",
    "fixed_model.train()\n",
    "\n",
    "# Load one batch at a time.\n",
    "for t, sample in enumerate(image_dataloader_train):\n",
    "    x_var = Variable(sample['image'])\n",
    "    #print(type(x_var.data))\n",
    "    #print(x_var.shape)\n",
    "    y_var = Variable(sample['Label']).long()\n",
    "\n",
    "    # This is the forward pass: predict the scores for each class, for each x in the batch.\n",
    "    scores = fixed_model(x_var)\n",
    "    \n",
    "    # Use the correct y values and the predicted y values to compute the loss.\n",
    "    loss = loss_fn(scores, y_var)\n",
    "    \n",
    "    if (t + 1) % print_every == 0:\n",
    "        print('t = %d, loss = %.4f' % (t + 1, loss.data[0]))\n",
    "\n",
    "    # Zero out all of the gradients for the variables which the optimizer will update.\n",
    "    optimizer.zero_grad()\n",
    "    \n",
    "    # This is the backwards pass: compute the gradient of the loss with respect to each \n",
    "    # parameter of the model.\n",
    "    loss.backward()\n",
    "    \n",
    "    # Actually update the parameters of the model using the gradients computed by the backwards pass.\n",
    "    optimizer.step()\n",
    "   "
   ]
  },
  {
   "cell_type": "markdown",
   "metadata": {},
   "source": [
    "Now you've seen how the training process works in PyTorch. To save you writing boilerplate code, we're providing the following helper functions to help you train for multiple epochs and check the accuracy of your model:"
   ]
  },
  {
   "cell_type": "code",
   "execution_count": 14,
   "metadata": {
    "collapsed": true
   },
   "outputs": [],
   "source": [
    "def train(model, loss_fn, optimizer, dataloader, num_epochs = 1):\n",
    "    for epoch in range(num_epochs):\n",
    "        print('Starting epoch %d / %d' % (epoch + 1, num_epochs))\n",
    "        model.train()\n",
    "        for t, sample in enumerate(dataloader):\n",
    "            x_var = Variable(sample['image'])\n",
    "            y_var = Variable(sample['Label'].long())\n",
    "\n",
    "            scores = model(x_var)\n",
    "            \n",
    "            loss = loss_fn(scores, y_var)\n",
    "            if (t + 1) % print_every == 0:\n",
    "                print('t = %d, loss = %.4f' % (t + 1, loss.data[0]))\n",
    "\n",
    "            optimizer.zero_grad()\n",
    "            loss.backward()\n",
    "            optimizer.step()\n",
    "\n",
    "def check_accuracy(model, loader):\n",
    "    '''\n",
    "    if loader.dataset.train:\n",
    "        print('Checking accuracy on validation set')\n",
    "    else:\n",
    "        print('Checking accuracy on test set')  \n",
    "    '''\n",
    "    num_correct = 0\n",
    "    num_samples = 0\n",
    "    model.eval() # Put the model in test mode (the opposite of model.train(), essentially)\n",
    "    for t, sample in enumerate(loader):\n",
    "        x_var = Variable(sample['image'])\n",
    "        y_var = sample['Label']\n",
    "        #y_var=y_var.cpu()\n",
    "        scores = model(x_var)\n",
    "        _, preds = scores.data.max(1)#scores.data.cpu().max(1)\n",
    "        #print(preds)\n",
    "        #print(y_var)\n",
    "        num_correct += (preds.numpy() == y_var.numpy()).sum()\n",
    "        num_samples += preds.size(0)\n",
    "    acc = float(num_correct) / num_samples\n",
    "    print('Got %d / %d correct (%.2f)' % (num_correct, num_samples, 100 * acc))\n",
    "    \n",
    "    \n",
    "\n"
   ]
  },
  {
   "cell_type": "markdown",
   "metadata": {},
   "source": [
    "### Check the accuracy of the model.\n",
    "\n",
    "Let's see the train and check_accuracy code in action -- feel free to use these methods when evaluating the models you develop below.\n",
    "\n",
    "You should get a training loss of around 1.0-1.2, and a validation accuracy of around 50-60%. As mentioned above, if you re-run the cells, you'll be training more epochs, so your performance will improve past these numbers.\n",
    "\n",
    "But don't worry about getting these numbers better -- this was just practice before you tackle designing your own model."
   ]
  },
  {
   "cell_type": "code",
   "execution_count": 15,
   "metadata": {
    "collapsed": false,
    "scrolled": true
   },
   "outputs": [
    {
     "name": "stdout",
     "output_type": "stream",
     "text": [
      "Starting epoch 1 / 5\n",
      "t = 100, loss = 2.2830\n",
      "t = 200, loss = 2.2241\n",
      "t = 300, loss = 2.0714\n",
      "t = 400, loss = 1.7856\n",
      "t = 500, loss = 1.7148\n",
      "t = 600, loss = 1.4924\n",
      "t = 700, loss = 1.6230\n",
      "Starting epoch 2 / 5\n",
      "t = 100, loss = 1.8013\n",
      "t = 200, loss = 1.3784\n",
      "t = 300, loss = 1.0021\n",
      "t = 400, loss = 1.0402\n",
      "t = 500, loss = 1.0761\n",
      "t = 600, loss = 0.9140\n",
      "t = 700, loss = 0.9027\n",
      "Starting epoch 3 / 5\n",
      "t = 100, loss = 0.8872\n",
      "t = 200, loss = 1.0655\n",
      "t = 300, loss = 0.5966\n",
      "t = 400, loss = 1.0514\n",
      "t = 500, loss = 0.8817\n",
      "t = 600, loss = 0.8354\n",
      "t = 700, loss = 0.6076\n",
      "Starting epoch 4 / 5\n",
      "t = 100, loss = 0.4922\n",
      "t = 200, loss = 0.4735\n",
      "t = 300, loss = 0.5287\n",
      "t = 400, loss = 0.8368\n",
      "t = 500, loss = 0.8693\n",
      "t = 600, loss = 0.6045\n",
      "t = 700, loss = 0.5770\n",
      "Starting epoch 5 / 5\n",
      "t = 100, loss = 0.7138\n",
      "t = 200, loss = 0.6719\n",
      "t = 300, loss = 0.5631\n",
      "t = 400, loss = 0.6711\n",
      "t = 500, loss = 0.3279\n",
      "t = 600, loss = 0.4384\n",
      "t = 700, loss = 0.5427\n",
      "Got 20046 / 23310 correct (86.00)\n"
     ]
    },
    {
     "name": "stderr",
     "output_type": "stream",
     "text": [
      "c:\\users\\saif\\.py36env\\lib\\site-packages\\ipykernel\\__main__.py:13: UserWarning: invalid index of a 0-dim tensor. This will be an error in PyTorch 0.5. Use tensor.item() to convert a 0-dim tensor to a Python number\n"
     ]
    }
   ],
   "source": [
    "torch.random.manual_seed(12345)\n",
    "fixed_model.cpu()\n",
    "fixed_model.apply(reset) \n",
    "fixed_model.train() \n",
    "train(fixed_model, loss_fn, optimizer,image_dataloader_train, num_epochs=5) \n",
    "check_accuracy(fixed_model, image_dataloader_train)# check accuracy on the training set\n"
   ]
  },
  {
   "cell_type": "markdown",
   "metadata": {},
   "source": [
    "### Don't forget the validation set!\n",
    "\n",
    "And note that you can use the check_accuracy function to evaluate on the validation set, by passing **image_dataloader_val** as the second argument to check_accuracy. The accuracy on validation set is arround 40-50%."
   ]
  },
  {
   "cell_type": "code",
   "execution_count": 16,
   "metadata": {
    "collapsed": false
   },
   "outputs": [
    {
     "name": "stdout",
     "output_type": "stream",
     "text": [
      "Got 3776 / 6690 correct (56.44)\n"
     ]
    }
   ],
   "source": [
    "check_accuracy(fixed_model, image_dataloader_val)#check accuracy on the validation set"
   ]
  },
  {
   "cell_type": "markdown",
   "metadata": {},
   "source": [
    "##### Train a better  model for action recognition!\n",
    "\n",
    "Now it's your job to experiment with architectures, hyperparameters, loss functions, and optimizers to train a model that achieves better accuracy on the action recognition **validation** set. You can use the check_accuracy and train functions from above."
   ]
  },
  {
   "cell_type": "markdown",
   "metadata": {},
   "source": [
    "### Things you should try:\n",
    "- **Filter size**: Above we used 7x7; this makes pretty pictures but smaller filters may be more efficient\n",
    "- **Number of filters**: Do more or fewer do better?\n",
    "- **Pooling vs Strided Convolution**: Do you use max pooling or just stride convolutions?\n",
    "- **Batch normalization**: Try adding spatial batch normalization after convolution layers and vanilla batch normalization after affine layers. Do your networks train faster?\n",
    "- **Network architecture**: The network above has two layers of trainable parameters. Can you do better with a deep network? Good architectures to try include:\n",
    "    - [conv-relu-pool]xN -> [affine]xM -> [softmax or SVM]\n",
    "    - [conv-relu-conv-relu-pool]xN -> [affine]xM -> [softmax or SVM]\n",
    "    - [batchnorm-relu-conv]xN -> [affine]xM -> [softmax or SVM]\n",
    "- **Global Average Pooling**: Instead of flattening and then having multiple affine layers, perform convolutions until your image gets small (7x7 or so) and then perform an average pooling operation to get to a 1x1 image picture (1, 1 , Filter#), which is then reshaped into a (Filter#) vector. This is used in [Google's Inception Network](https://arxiv.org/abs/1512.00567) (See Table 1 for their architecture).\n",
    "- **Regularization**: Add l2 weight regularization, or perhaps use Dropout.\n",
    "\n",
    "### Tips for training\n",
    "For each network architecture that you try, you should tune the learning rate and regularization strength. When doing this there are a couple important things to keep in mind:\n",
    "\n",
    "- If the parameters are working well, you should see improvement within a few hundred iterations\n",
    "- Remember the coarse-to-fine approach for hyperparameter tuning: start by testing a large range of hyperparameters for just a few training iterations to find the combinations of parameters that are working at all.\n",
    "- Once you have found some sets of parameters that seem to work, search more finely around these parameters. You may need to train for more epochs.\n",
    "- You should use the validation set for hyperparameter search, and save your test set for evaluating your architecture on the best parameters as selected by the validation set.\n",
    "\n",
    "### Going above and beyond\n",
    "If you are feeling adventurous there are many other features you can implement to try and improve your performance. You are **not required** to implement any of these; however they would be good things to try.\n",
    "\n",
    "- Alternative update steps: For the assignment we implemented SGD+momentum, RMSprop, and Adam; you could try alternatives like AdaGrad or AdaDelta.\n",
    "- Alternative activation functions such as leaky ReLU, parametric ReLU, ELU, or MaxOut.\n",
    "- Model ensembles\n",
    "- Data augmentation\n",
    "- New Architectures\n",
    "  - [ResNets](https://arxiv.org/abs/1512.03385) where the input from the previous layer is added to the output.\n",
    "  - [DenseNets](https://arxiv.org/abs/1608.06993) where inputs into previous layers are concatenated together.\n",
    "  - [This blog has an in-depth overview](https://chatbotslife.com/resnets-highwaynets-and-densenets-oh-my-9bb15918ee32)\n",
    "\n",
    "If you do decide to implement something extra, clearly describe it in the \"Extra Credit Description\" cell below.\n",
    "\n",
    "### What we expect\n",
    "At the very least, you should be able to train a ConvNet that gets at least 55% accuracy on the validation set. This is just a lower bound - if you are careful it should be possible to get accuracies much higher than that! Extra credit points will be awarded for particularly high-scoring models or unique approaches.\n",
    "\n",
    "You should use the space below to experiment and train your network. \n",
    "\n"
   ]
  },
  {
   "cell_type": "code",
   "execution_count": 17,
   "metadata": {
    "collapsed": false,
    "scrolled": true
   },
   "outputs": [
    {
     "name": "stderr",
     "output_type": "stream",
     "text": [
      "c:\\users\\saif\\.py36env\\lib\\site-packages\\torch\\nn\\modules\\container.py:91: UserWarning: Implicit dimension choice for log_softmax has been deprecated. Change the call to include dim=X as an argument.\n",
      "  input = module(input)\n",
      "c:\\users\\saif\\.py36env\\lib\\site-packages\\ipykernel\\__main__.py:13: UserWarning: invalid index of a 0-dim tensor. This will be an error in PyTorch 0.5. Use tensor.item() to convert a 0-dim tensor to a Python number\n"
     ]
    },
    {
     "name": "stdout",
     "output_type": "stream",
     "text": [
      "Starting epoch 1 / 10\n",
      "t = 100, loss = 0.9025\n",
      "t = 200, loss = 0.6514\n",
      "t = 300, loss = 0.6759\n",
      "t = 400, loss = 0.6267\n",
      "t = 500, loss = 0.7045\n",
      "t = 600, loss = 0.3203\n",
      "t = 700, loss = 0.2387\n",
      "Starting epoch 2 / 10\n",
      "t = 100, loss = 0.2955\n",
      "t = 200, loss = 0.1541\n",
      "t = 300, loss = 0.1722\n",
      "t = 400, loss = 0.2500\n",
      "t = 500, loss = 0.2367\n",
      "t = 600, loss = 0.1054\n",
      "t = 700, loss = 0.0578\n",
      "Starting epoch 3 / 10\n",
      "t = 100, loss = 0.0703\n",
      "t = 200, loss = 0.0842\n",
      "t = 300, loss = 0.1833\n",
      "t = 400, loss = 0.1328\n",
      "t = 500, loss = 0.0455\n",
      "t = 600, loss = 0.0488\n",
      "t = 700, loss = 0.0641\n",
      "Starting epoch 4 / 10\n",
      "t = 100, loss = 0.0546\n",
      "t = 200, loss = 0.2286\n",
      "t = 300, loss = 0.0405\n",
      "t = 400, loss = 0.0248\n",
      "t = 500, loss = 0.0161\n",
      "t = 600, loss = 0.0106\n",
      "t = 700, loss = 0.0382\n",
      "Starting epoch 5 / 10\n",
      "t = 100, loss = 0.0294\n",
      "t = 200, loss = 0.0227\n",
      "t = 300, loss = 0.0042\n",
      "t = 400, loss = 0.0229\n",
      "t = 500, loss = 0.0351\n",
      "t = 600, loss = 0.0127\n",
      "t = 700, loss = 0.0174\n",
      "Starting epoch 6 / 10\n",
      "t = 100, loss = 0.0534\n",
      "t = 200, loss = 0.0644\n",
      "t = 300, loss = 0.0267\n",
      "t = 400, loss = 0.0328\n",
      "t = 500, loss = 0.0529\n",
      "t = 600, loss = 0.0068\n",
      "t = 700, loss = 0.0043\n",
      "Starting epoch 7 / 10\n",
      "t = 100, loss = 0.0240\n",
      "t = 200, loss = 0.0067\n",
      "t = 300, loss = 0.0336\n",
      "t = 400, loss = 0.0098\n",
      "t = 500, loss = 0.0254\n",
      "t = 600, loss = 0.0209\n",
      "t = 700, loss = 0.0041\n",
      "Starting epoch 8 / 10\n",
      "t = 100, loss = 0.0063\n",
      "t = 200, loss = 0.0088\n",
      "t = 300, loss = 0.0052\n",
      "t = 400, loss = 0.0060\n",
      "t = 500, loss = 0.0031\n",
      "t = 600, loss = 0.0078\n",
      "t = 700, loss = 0.0053\n",
      "Starting epoch 9 / 10\n",
      "t = 100, loss = 0.0036\n",
      "t = 200, loss = 0.0092\n",
      "t = 300, loss = 0.0153\n",
      "t = 400, loss = 0.0170\n",
      "t = 500, loss = 0.0091\n",
      "t = 600, loss = 0.0218\n",
      "t = 700, loss = 0.0059\n",
      "Starting epoch 10 / 10\n",
      "t = 100, loss = 0.0015\n",
      "t = 200, loss = 0.0036\n",
      "t = 300, loss = 0.0077\n",
      "t = 400, loss = 0.0066\n",
      "t = 500, loss = 0.0012\n",
      "t = 600, loss = 0.0046\n",
      "t = 700, loss = 0.0075\n",
      "Got 4537 / 6690 correct (67.82)\n"
     ]
    }
   ],
   "source": [
    "###########3rd TODO (20 points, must submit the results to Kaggle) ##############\n",
    "# Train your model here, and make sure the output of this cell is the accuracy of your best model on the \n",
    "# train, val, and test sets. Here's some code to get you started. The output of this cell should be the training\n",
    "# and validation accuracy on your best model (measured by validation accuracy).\n",
    "\n",
    "model = nn.Sequential(\n",
    "                nn.BatchNorm2d(3),\n",
    "                nn.Conv2d(3, 8, kernel_size=5, stride=1,padding=2),\n",
    "                nn.ReLU(inplace=True),\n",
    "                nn.MaxPool2d(kernel_size=2,stride=2),\n",
    "                nn.BatchNorm2d(8),\n",
    "                nn.Conv2d(8, 32, kernel_size=5, stride=1,padding=2),\n",
    "                nn.ReLU(inplace=True),\n",
    "                nn.MaxPool2d(kernel_size=2,stride=2),\n",
    "                nn.BatchNorm2d(32),\n",
    "                nn.Conv2d(32, 64, kernel_size=3, stride=1,padding=1),\n",
    "                nn.ReLU(inplace=True),\n",
    "                nn.MaxPool2d(kernel_size=2,stride=2),\n",
    "                nn.Dropout2d(0.2),\n",
    "                nn.BatchNorm2d(64),\n",
    "                Flatten(),\n",
    "                nn.ReLU(inplace=True),\n",
    "                nn.Linear(64*8*8, 32),\n",
    "                nn.Linear(32, 10),\n",
    "                nn.LogSoftmax()\n",
    "            )\n",
    "loss_fn = nn.CrossEntropyLoss().type(dtype)\n",
    "optimizer = optim.RMSprop(model.parameters(),lr=1e-4)\n",
    "\n",
    "train(model, loss_fn, optimizer,image_dataloader_train, num_epochs=10) \n",
    "check_accuracy(model, image_dataloader_val)"
   ]
  },
  {
   "cell_type": "markdown",
   "metadata": {},
   "source": [
    "### Describe what you did \n",
    "\n",
    "In the cell below you should write an explanation of what you did, any additional features that you implemented, and any visualizations or graphs that you make in the process of training and evaluating your network."
   ]
  },
  {
   "cell_type": "markdown",
   "metadata": {},
   "source": [
    "Tell us here!\n",
    "###########4th TODO (5 points) ##############\n",
    "1. Batch Normalization of the input before the convolutional layer\n",
    "2. 5x5 Convolution with 2 pixel padding and a stride of 1, output 8 channels\n",
    "3. ReLU activation layer (tried with Sigmoid but took more time and accuracy was lower)\n",
    "4. 2x2 Max Pooling layer with a stride of 2. (decreases input size from 64 to 32)\n",
    "5. Batch normalization of the output of Max Pool layer\n",
    "6. 5x5 Convolution with 2 pixel padding and a stride of 1, output 32 channels\n",
    "7. ReLU activation layer\n",
    "8. 2x2 Max Pooling layer with a stride of 2. (decreases input size from 32 to 16)\n",
    "9. Batch normalization of the output of Max Pool layer\n",
    "10. 3x3 Convolution with 1 pixel padding and a stride of 1, output 64 channels\n",
    "11. ReLU activation layer\n",
    "12. 2x2 Max Pooling layer with a stride of 2 (decreases input size from 16 to 8)\n",
    "13. Dropout Layer with a probability of 0.2 (makes it difficult to overfit the data easily)\n",
    "14. Batch normalization of the entire output\n",
    "15. ReLU activation layer\n",
    "16. 2 fully connected layers followed by a softmax classification layer.\n",
    "\n",
    "As compared to the previous models, I've increased the size of the model. I've included batch normalization, as normalized inputs and outputs lead to a higher accuracy. Max pooling layers have been included to increase robustness of the model. ReLU activation layer has been chosen as it proved to give a better accuracy as compared to Sigmoid function. Dropout layer has been used to avoid overfitting the model on the training data. Softmax classification layer has been used."
   ]
  },
  {
   "cell_type": "markdown",
   "metadata": {},
   "source": [
    "### Testing the model and submit on Kaggle\n",
    "Testing the model on the testing set and save the results as a .csv file. \n",
    "Please submitted the results.csv file generated by predict_on_test() to Kaggle(https://www.kaggle.com/c/cse512springhw3) to see how well your network performs on the test set. \n",
    "#######5th TODO (submit the result to Kaggle, the highest 3 entries get extra 10 points )###############"
   ]
  },
  {
   "cell_type": "code",
   "execution_count": 19,
   "metadata": {
    "collapsed": false
   },
   "outputs": [
    {
     "name": "stdout",
     "output_type": "stream",
     "text": [
      "9810\n"
     ]
    },
    {
     "name": "stderr",
     "output_type": "stream",
     "text": [
      "c:\\users\\saif\\.py36env\\lib\\site-packages\\torch\\nn\\modules\\container.py:91: UserWarning: Implicit dimension choice for log_softmax has been deprecated. Change the call to include dim=X as an argument.\n",
      "  input = module(input)\n"
     ]
    }
   ],
   "source": [
    "def predict_on_test(model, loader):\n",
    "    '''\n",
    "    if loader.dataset.train:\n",
    "        print('Checking accuracy on validation set')\n",
    "    else:\n",
    "        print('Checking accuracy on test set')  \n",
    "    '''\n",
    "    num_correct = 0\n",
    "    num_samples = 0\n",
    "    model.eval() # Put the model in test mode (the opposite of model.train(), essentially)\n",
    "    results=open('results.csv','w')\n",
    "    count=0\n",
    "    results.write('Id'+','+'Class'+'\\n')\n",
    "    for t, sample in enumerate(loader):\n",
    "        x_var = Variable(sample['image'])\n",
    "        scores = model(x_var)\n",
    "        _, preds = scores.data.max(1)\n",
    "        for i in range(len(preds)):\n",
    "            results.write(str(count)+','+str(preds[i].numpy())+'\\n')\n",
    "            count+=1\n",
    "    results.close()\n",
    "    return count\n",
    "    \n",
    "count=predict_on_test(model, image_dataloader_test)\n",
    "print(count)"
   ]
  },
  {
   "cell_type": "markdown",
   "metadata": {},
   "source": [
    "### GPU! (This part is optional, 0 points)\n",
    "\n",
    "If you have access to GPU, you can make the code run on GPU, it would be much faster. \n",
    "\n",
    "Now, we're going to switch the dtype of the model and our data to the GPU-friendly tensors, and see what happens... everything is the same, except we are casting our model and input tensors as this new dtype instead of the old one.\n",
    "\n",
    "If this returns false, or otherwise fails in a not-graceful way (i.e., with some error message), you may not have an NVIDIA GPU available on your machine. "
   ]
  },
  {
   "cell_type": "code",
   "execution_count": 1,
   "metadata": {
    "collapsed": false
   },
   "outputs": [
    {
     "ename": "NameError",
     "evalue": "name 'torch' is not defined",
     "output_type": "error",
     "traceback": [
      "\u001b[1;31m---------------------------------------------------------------------------\u001b[0m",
      "\u001b[1;31mNameError\u001b[0m                                 Traceback (most recent call last)",
      "\u001b[1;32m<ipython-input-1-0934a9f12c67>\u001b[0m in \u001b[0;36m<module>\u001b[1;34m()\u001b[0m\n\u001b[0;32m      1\u001b[0m \u001b[1;31m# Verify that CUDA is properly configured and you have a GPU available\u001b[0m\u001b[1;33m\u001b[0m\u001b[1;33m\u001b[0m\u001b[0m\n\u001b[0;32m      2\u001b[0m \u001b[1;33m\u001b[0m\u001b[0m\n\u001b[1;32m----> 3\u001b[1;33m \u001b[0mtorch\u001b[0m\u001b[1;33m.\u001b[0m\u001b[0mcuda\u001b[0m\u001b[1;33m.\u001b[0m\u001b[0mis_available\u001b[0m\u001b[1;33m(\u001b[0m\u001b[1;33m)\u001b[0m\u001b[1;33m\u001b[0m\u001b[0m\n\u001b[0m",
      "\u001b[1;31mNameError\u001b[0m: name 'torch' is not defined"
     ]
    }
   ],
   "source": [
    "# Verify that CUDA is properly configured and you have a GPU available\n",
    "\n",
    "torch.cuda.is_available()"
   ]
  },
  {
   "cell_type": "code",
   "execution_count": null,
   "metadata": {
    "collapsed": true
   },
   "outputs": [],
   "source": [
    "import copy\n",
    "gpu_dtype = torch.cuda.FloatTensor\n",
    "\n",
    "fixed_model_gpu = copy.deepcopy(fixed_model_base)#.type(gpu_dtype)\n",
    "fixed_model_gpu.cuda()\n",
    "x_gpu = torch.randn(4, 3, 64, 64).cuda()#.type(gpu_dtype)\n",
    "x_var_gpu = Variable(x_gpu)#type(gpu_dtype)) # Construct a PyTorch Variable out of your input data\n",
    "ans = fixed_model_gpu(x_var_gpu)        # Feed it through the model! \n",
    "\n",
    "# Check to make sure what comes out of your model\n",
    "# is the right dimensionality... this should be True\n",
    "# if you've done everything correctly\n",
    "np.array_equal(np.array(ans.size()), np.array([4, 10]))\n"
   ]
  },
  {
   "cell_type": "markdown",
   "metadata": {},
   "source": [
    "Run the following cell to evaluate the performance of the forward pass running on the CPU:"
   ]
  },
  {
   "cell_type": "code",
   "execution_count": null,
   "metadata": {
    "collapsed": true
   },
   "outputs": [],
   "source": [
    "%%timeit \n",
    "ans = fixed_model(x_var)"
   ]
  },
  {
   "cell_type": "markdown",
   "metadata": {},
   "source": [
    "... and now the GPU:"
   ]
  },
  {
   "cell_type": "code",
   "execution_count": null,
   "metadata": {
    "collapsed": true
   },
   "outputs": [],
   "source": [
    "%%timeit \n",
    "torch.cuda.synchronize() # Make sure there are no pending GPU computations\n",
    "ans = fixed_model_gpu(x_var_gpu)        # Feed it through the model! \n",
    "torch.cuda.synchronize() # Make sure there are no pending GPU computations"
   ]
  },
  {
   "cell_type": "markdown",
   "metadata": {},
   "source": [
    "You should observe that even a simple forward pass like this is significantly faster on the GPU. So for the rest of the assignment (and when you go train your models in assignment 3 and your project!), you should use the GPU datatype for your model and your tensors: as a reminder that is *torch.cuda.FloatTensor* (in our notebook here as *gpu_dtype*)"
   ]
  },
  {
   "cell_type": "markdown",
   "metadata": {},
   "source": [
    "Let's make the loss function and training variables to GPU friendly format by '.cuda()'"
   ]
  },
  {
   "cell_type": "code",
   "execution_count": null,
   "metadata": {
    "collapsed": true
   },
   "outputs": [],
   "source": [
    "loss_fn = nn.CrossEntropyLoss().cuda()\n",
    "optimizer = optim.RMSprop(fixed_model_gpu.parameters(), lr=1e-4)"
   ]
  },
  {
   "cell_type": "code",
   "execution_count": null,
   "metadata": {
    "collapsed": true
   },
   "outputs": [],
   "source": [
    "def train(model, loss_fn, optimizer, dataloader, num_epochs = 1):\n",
    "    for epoch in range(num_epochs):\n",
    "        print('Starting epoch %d / %d' % (epoch + 1, num_epochs))\n",
    "        model.train()\n",
    "        for t, sample in enumerate(dataloader):\n",
    "            x_var = Variable(sample['image'].cuda())\n",
    "            y_var = Variable(sample['Label'].cuda().long())\n",
    "\n",
    "            scores = model(x_var)\n",
    "            \n",
    "            loss = loss_fn(scores, y_var)\n",
    "            if (t + 1) % print_every == 0:\n",
    "                print('t = %d, loss = %.4f' % (t + 1, loss.data[0]))\n",
    "\n",
    "            optimizer.zero_grad()\n",
    "            loss.backward()\n",
    "            optimizer.step()\n",
    "\n",
    "def check_accuracy(model, loader):\n",
    "    '''\n",
    "    if loader.dataset.train:\n",
    "        print('Checking accuracy on validation set')\n",
    "    else:\n",
    "        print('Checking accuracy on test set')  \n",
    "    '''\n",
    "    num_correct = 0\n",
    "    num_samples = 0\n",
    "    model.eval() # Put the model in test mode (the opposite of model.train(), essentially)\n",
    "    for t, sample in enumerate(loader):\n",
    "        x_var = Variable(sample['image'].cuda())\n",
    "        y_var = sample['Label'].cuda()\n",
    "        y_var=y_var.cpu()\n",
    "        scores = model(x_var)\n",
    "        _, preds = scores.data.cpu().max(1)\n",
    "        #print(preds)\n",
    "        #print(y_var)\n",
    "        num_correct += (preds.numpy() == y_var.numpy()).sum()\n",
    "        num_samples += preds.size(0)\n",
    "    acc = float(num_correct) / num_samples\n",
    "    print('Got %d / %d correct (%.2f)' % (num_correct, num_samples, 100 * acc))"
   ]
  },
  {
   "cell_type": "markdown",
   "metadata": {},
   "source": [
    "Run on GPU!"
   ]
  },
  {
   "cell_type": "code",
   "execution_count": null,
   "metadata": {
    "collapsed": true
   },
   "outputs": [],
   "source": [
    "torch.cuda.random.manual_seed(12345)\n",
    "\n",
    "fixed_model_gpu.apply(reset) \n",
    "fixed_model_gpu.train() \n",
    "train(fixed_model_gpu, loss_fn, optimizer,image_dataloader_train, num_epochs=1) \n",
    "check_accuracy(fixed_model_gpu, image_dataloader_train)# check accuracy on the training set\n"
   ]
  },
  {
   "cell_type": "markdown",
   "metadata": {},
   "source": [
    "### 3D Convolution on video clips (25 points+10 extra points)\n",
    "3D convolution is for videos, it has one more dimension than 2d convolution. You can find the document for 3D convolution here http://pytorch.org/docs/master/nn.html#torch.nn.Conv3dIn. In our dataset, each clip is a video of 3 frames. Lets classify the each clip rather than each image using 3D convolution.\n",
    "We offer the data loader, the train_3d and check_accuracy"
   ]
  },
  {
   "cell_type": "code",
   "execution_count": 18,
   "metadata": {
    "collapsed": false
   },
   "outputs": [
    {
     "name": "stdout",
     "output_type": "stream",
     "text": [
      "torch.Size([3, 3, 64, 64])\n",
      "0.0\n",
      "00001\n",
      "torch.Size([3, 3, 64, 64])\n",
      "0.0\n",
      "00002\n",
      "torch.Size([3, 3, 64, 64])\n",
      "0.0\n",
      "00003\n",
      "torch.Size([3, 3, 64, 64])\n",
      "0.0\n",
      "00004\n",
      "torch.Size([3, 3, 64, 64])\n",
      "0.0\n",
      "00005\n",
      "torch.Size([3, 3, 64, 64])\n",
      "0.0\n",
      "00006\n",
      "torch.Size([3, 3, 64, 64])\n",
      "0.0\n",
      "00007\n",
      "torch.Size([3, 3, 64, 64])\n",
      "0.0\n",
      "00008\n",
      "torch.Size([3, 3, 64, 64])\n",
      "0.0\n",
      "00009\n",
      "torch.Size([3, 3, 64, 64])\n",
      "0.0\n",
      "00010\n"
     ]
    }
   ],
   "source": [
    "class ActionClipDataset(Dataset):\n",
    "    \"\"\"Action Landmarks dataset.\"\"\"\n",
    "\n",
    "    def __init__(self,  root_dir,labels=[], transform=None):\n",
    "        \"\"\"\n",
    "        Args:\n",
    "            csv_file (string): Path to the csv file with annotations.\n",
    "            root_dir (string): Directory with all the images.\n",
    "            transform (callable, optional): Optional transform to be applied\n",
    "                on a sample.\n",
    "        \"\"\"\n",
    "        \n",
    "        self.root_dir = root_dir\n",
    "        self.transform = transform\n",
    "        self.length=len(os.listdir(self.root_dir))\n",
    "        self.labels=labels\n",
    "\n",
    "    def __len__(self):\n",
    "        return self.length\n",
    "\n",
    "    def __getitem__(self, idx):\n",
    "        \n",
    "        folder=idx+1\n",
    "        folder=format(folder,'05d')\n",
    "        clip=[]\n",
    "        if len(self.labels)!=0:\n",
    "            Label=self.labels[idx][0]-1\n",
    "        for i in range(3):\n",
    "            imidx=i+1\n",
    "            imgname=str(imidx)+'.jpg'\n",
    "            img_path = os.path.join(self.root_dir,\n",
    "                                    folder,imgname)\n",
    "            image = Image.open(img_path)\n",
    "            image=np.array(image)\n",
    "            clip.append(image)\n",
    "        if self.transform:\n",
    "            clip=np.asarray(clip)\n",
    "            clip=np.transpose(clip, (0,3,1,2))\n",
    "            clip = torch.from_numpy(np.asarray(clip))\n",
    "        if len(self.labels)!=0:\n",
    "            sample={'clip':clip,'Label':Label,'folder':folder}\n",
    "        else:\n",
    "            sample={'clip':clip,'folder':folder}\n",
    "        return sample\n",
    "\n",
    "clip_dataset=ActionClipDataset(root_dir='./data/trainClips/',\\\n",
    "                               labels=label_train,transform=T.ToTensor())#/home/tqvinh/Study/CSE512/cse512-s18/hw2data/trainClips/\n",
    "for i in range(10):\n",
    "    sample=clip_dataset[i]\n",
    "    print(sample['clip'].shape)\n",
    "    print(sample['Label'])\n",
    "    print(sample['folder'])"
   ]
  },
  {
   "cell_type": "code",
   "execution_count": 19,
   "metadata": {
    "collapsed": false
   },
   "outputs": [
    {
     "name": "stdout",
     "output_type": "stream",
     "text": [
      "0 torch.Size([4, 3, 3, 64, 64]) ['06679', '05352', '07489', '06022'] tensor([8., 6., 9., 7.], dtype=torch.float64)\n",
      "1 torch.Size([4, 3, 3, 64, 64]) ['07627', '00905', '00900', '05672'] tensor([9., 0., 0., 7.], dtype=torch.float64)\n",
      "2 torch.Size([4, 3, 3, 64, 64]) ['01437', '00920', '02167', '02194'] tensor([1., 1., 2., 2.], dtype=torch.float64)\n",
      "3 torch.Size([4, 3, 3, 64, 64]) ['04627', '04502', '06711', '03559'] tensor([5., 5., 8., 4.], dtype=torch.float64)\n",
      "4 torch.Size([4, 3, 3, 64, 64]) ['04880', '05707', '05645', '03808'] tensor([5., 7., 7., 4.], dtype=torch.float64)\n",
      "5 torch.Size([4, 3, 3, 64, 64]) ['00593', '02302', '03165', '07414'] tensor([0., 2., 3., 9.], dtype=torch.float64)\n",
      "6 torch.Size([4, 3, 3, 64, 64]) ['07267', '07605', '06134', '03770'] tensor([9., 9., 7., 4.], dtype=torch.float64)\n",
      "7 torch.Size([4, 3, 3, 64, 64]) ['05556', '06409', '04029', '05146'] tensor([6., 7., 4., 6.], dtype=torch.float64)\n",
      "8 torch.Size([4, 3, 3, 64, 64]) ['00981', '07503', '06607', '04214'] tensor([1., 9., 8., 5.], dtype=torch.float64)\n",
      "9 torch.Size([4, 3, 3, 64, 64]) ['00106', '05922', '03889', '03118'] tensor([0., 7., 4., 3.], dtype=torch.float64)\n",
      "10 torch.Size([4, 3, 3, 64, 64]) ['03300', '07221', '05092', '02580'] tensor([3., 9., 6., 2.], dtype=torch.float64)\n",
      "11 torch.Size([4, 3, 3, 64, 64]) ['03378', '03609', '07769', '07520'] tensor([3., 4., 9., 9.], dtype=torch.float64)\n",
      "12 torch.Size([4, 3, 3, 64, 64]) ['04256', '07430', '06456', '03331'] tensor([5., 9., 7., 3.], dtype=torch.float64)\n",
      "13 torch.Size([4, 3, 3, 64, 64]) ['01303', '01252', '01877', '01026'] tensor([1., 1., 2., 1.], dtype=torch.float64)\n",
      "14 torch.Size([4, 3, 3, 64, 64]) ['02841', '00840', '05555', '04839'] tensor([3., 0., 6., 5.], dtype=torch.float64)\n",
      "15 torch.Size([4, 3, 3, 64, 64]) ['02096', '03805', '04789', '07316'] tensor([2., 4., 5., 9.], dtype=torch.float64)\n",
      "16 torch.Size([4, 3, 3, 64, 64]) ['00598', '01466', '00658', '03042'] tensor([0., 1., 0., 3.], dtype=torch.float64)\n",
      "17 torch.Size([4, 3, 3, 64, 64]) ['04688', '01612', '04853', '01245'] tensor([5., 1., 5., 1.], dtype=torch.float64)\n",
      "18 torch.Size([4, 3, 3, 64, 64]) ['00071', '06567', '01539', '06776'] tensor([0., 8., 1., 8.], dtype=torch.float64)\n",
      "19 torch.Size([4, 3, 3, 64, 64]) ['04953', '07172', '07465', '00443'] tensor([5., 9., 9., 0.], dtype=torch.float64)\n",
      "20 torch.Size([4, 3, 3, 64, 64]) ['03920', '01711', '05264', '02080'] tensor([4., 1., 6., 2.], dtype=torch.float64)\n",
      "21 torch.Size([4, 3, 3, 64, 64]) ['04122', '01605', '04671', '04816'] tensor([4., 1., 5., 5.], dtype=torch.float64)\n"
     ]
    }
   ],
   "source": [
    "clip_dataloader = DataLoader(clip_dataset, batch_size=4,\n",
    "                        shuffle=True, num_workers=0)\n",
    "\n",
    "\n",
    "for i,sample in enumerate(clip_dataloader):\n",
    "    print(i,sample['clip'].shape,sample['folder'],sample['Label'])\n",
    "    if i>20: \n",
    "        break"
   ]
  },
  {
   "cell_type": "code",
   "execution_count": 20,
   "metadata": {
    "collapsed": true
   },
   "outputs": [],
   "source": [
    "clip_dataset_train=ActionClipDataset(root_dir='./data/trainClips/',labels=label_train,transform=T.ToTensor())\n",
    "\n",
    "clip_dataloader_train = DataLoader(clip_dataset_train, batch_size=16,\n",
    "                        shuffle=True, num_workers=0)\n",
    "clip_dataset_val=ActionClipDataset(root_dir='./data/valClips/',labels=label_val,transform=T.ToTensor())\n",
    "\n",
    "clip_dataloader_val = DataLoader(clip_dataset_val, batch_size=16,\n",
    "                        shuffle=True, num_workers=0)\n",
    "clip_dataset_test=ActionClipDataset(root_dir='./data/testClips/',labels=[],transform=T.ToTensor())\n",
    "\n",
    "clip_dataloader_test = DataLoader(clip_dataset_test, batch_size=16,\n",
    "                        shuffle=False, num_workers=0)"
   ]
  },
  {
   "cell_type": "markdown",
   "metadata": {},
   "source": [
    "Write the Flatten for 3d covolution feature maps."
   ]
  },
  {
   "cell_type": "code",
   "execution_count": 21,
   "metadata": {
    "collapsed": true
   },
   "outputs": [],
   "source": [
    "class Flatten3d(nn.Module):\n",
    "    def forward(self, x):\n",
    "        ###############6th TODO (5 points)###################\n",
    "        n,c,d,h,w=x.size()\n",
    "        return x.view(n,-1)\n",
    "        "
   ]
  },
  {
   "cell_type": "markdown",
   "metadata": {},
   "source": [
    "Design a network using 3D convolution on videos for video classification."
   ]
  },
  {
   "cell_type": "code",
   "execution_count": 23,
   "metadata": {
    "collapsed": false
   },
   "outputs": [
    {
     "name": "stderr",
     "output_type": "stream",
     "text": [
      "c:\\users\\saif\\.py36env\\lib\\site-packages\\torch\\nn\\modules\\container.py:91: UserWarning: Implicit dimension choice for log_softmax has been deprecated. Change the call to include dim=X as an argument.\n",
      "  input = module(input)\n"
     ]
    },
    {
     "data": {
      "text/plain": [
       "True"
      ]
     },
     "execution_count": 23,
     "metadata": {},
     "output_type": "execute_result"
    }
   ],
   "source": [
    "fixed_model_3d = nn.Sequential( # You fill this in!\n",
    "    ###############7th TODO (20 points)#########################\n",
    "                nn.BatchNorm3d(3),\n",
    "                nn.Conv3d(3, 8, kernel_size=(3,7,7), stride=1,padding=(1,3,3)),\n",
    "                nn.ReLU(inplace=True),\n",
    "                nn.MaxPool3d(kernel_size=2,stride=2),\n",
    "                nn.BatchNorm3d(8),\n",
    "                nn.Dropout3d(0.2),\n",
    "                nn.Conv3d(8, 16, kernel_size=(2,5,5), stride=1,padding=(1,2,2)),\n",
    "                nn.ReLU(inplace=True),\n",
    "                nn.MaxPool3d(kernel_size=(1,2,2),stride=2),\n",
    "                nn.BatchNorm3d(16),\n",
    "                nn.Dropout3d(0.2),\n",
    "                nn.Conv3d(16, 32, kernel_size=(1,3,3), stride=1,padding=(0,1,1)),\n",
    "                nn.ReLU(inplace=True),\n",
    "                nn.MaxPool3d(kernel_size=(1,2,2),stride=(1,2,2)),\n",
    "                nn.BatchNorm3d(32),\n",
    "                nn.Dropout3d(0.1),\n",
    "                Flatten3d(),\n",
    "                nn.ReLU(inplace=True),\n",
    "                nn.Linear(32*8*8*1, 16),\n",
    "                nn.Linear(16, 32),\n",
    "                nn.Linear(32, 10),\n",
    "                nn.LogSoftmax()\n",
    "    \n",
    ")\n",
    "\n",
    "fixed_model_3d = fixed_model_3d.type(dtype)\n",
    "x = torch.randn(32,3, 3, 64, 64).type(dtype)\n",
    "x_var = Variable(x).type(dtype) # Construct a PyTorch Variable out of your input data\n",
    "ans = fixed_model_3d(x_var) \n",
    "np.array_equal(np.array(ans.size()), np.array([32, 10]))\n"
   ]
  },
  {
   "cell_type": "markdown",
   "metadata": {},
   "source": [
    "### Describe what you did (5 points)\n",
    "\n",
    "In the cell below you should write an explanation of what you did, any additional features that you implemented, and any visualizations or graphs that you make in the process of training and evaluating your network.\n",
    "\n",
    "1. Batch Normalization of the input before the convolutional layer\n",
    "2. 3x7x7 Convolution with (1,3,3) pixel padding and a stride of 1, output 8 channels\n",
    "3. ReLU activation layer (tried with Sigmoid but took more time and accuracy was lower)\n",
    "4. 2x2 Max Pooling layer with a stride of 2. (decreases input size from 3x64x64 to 2x32x32)\n",
    "5. Dropout Layer with a probability of 0.2 (to decrease overfitting)\n",
    "6. Batch normalization of the output of Max Pool layer\n",
    "7. 2x5x5 Convolution with (1,2,2) pixel padding and a stride of 1, output 16 channels\n",
    "8. ReLU activation layer\n",
    "9. 1x2x2 Max Pooling layer with a stride of 2. (decreases input size from 2x32x32 to 1x16x16)\n",
    "10. Dropout Layer with a probability of 0.2\n",
    "11. Batch normalization of the output of Max Pool layer\n",
    "12. 1x3x3 Convolution with (0,1,1) pixel padding and a stride of 1, output 32 channels\n",
    "13. ReLU activation layer\n",
    "14. 1x2x2 Max Pooling layer with a stride of (1,2,2) (decreases input size from 16 to 8)\n",
    "15. Dropout Layer with a probability of 0.1 (makes it difficult to overfit the data easily)\n",
    "16. Batch normalization of the entire output\n",
    "17. ReLU activation layer\n",
    "18. 3 fully connected layers followed by a softmax classification layer.\n",
    "\n",
    "The model architecture now involves 3 (BatchNorm->Conv->ReLU->Dropout) layers. The fully connected layers have been increased in order to facilitate extracting more spatial information(as we're classifying on video clips)."
   ]
  },
  {
   "cell_type": "markdown",
   "metadata": {},
   "source": [
    "### 8th TODO Tell us here:"
   ]
  },
  {
   "cell_type": "code",
   "execution_count": 24,
   "metadata": {
    "collapsed": true
   },
   "outputs": [],
   "source": [
    "loss_fn = nn.CrossEntropyLoss().type(dtype)\n",
    "optimizer = optim.Adam(fixed_model_3d.parameters(), lr=1e-4)\n"
   ]
  },
  {
   "cell_type": "code",
   "execution_count": 25,
   "metadata": {
    "collapsed": true
   },
   "outputs": [],
   "source": [
    "def train_3d(model, loss_fn, optimizer,dataloader,num_epochs = 1):\n",
    "    for epoch in range(num_epochs):\n",
    "        print('Starting epoch %d / %d' % (epoch + 1, num_epochs))\n",
    "        model.train()\n",
    "        for t, sample in enumerate(dataloader):\n",
    "            x_var = Variable(sample['clip'].type(dtype))\n",
    "            y_var = Variable(sample['Label'].type(dtype).long())\n",
    "\n",
    "            scores = model(x_var)\n",
    "            \n",
    "            loss = loss_fn(scores, y_var)\n",
    "            if (t + 1) % print_every == 0:\n",
    "                print('t = %d, loss = %.4f' % (t + 1, loss.data[0]))\n",
    "\n",
    "            optimizer.zero_grad()\n",
    "            loss.backward()\n",
    "            optimizer.step()\n",
    "\n",
    "def check_accuracy_3d(model, loader):\n",
    "    '''\n",
    "    if loader.dataset.train:\n",
    "        print('Checking accuracy on validation set')\n",
    "    else:\n",
    "        print('Checking accuracy on test set')  \n",
    "    '''\n",
    "    num_correct = 0\n",
    "    num_samples = 0\n",
    "    model.eval() # Put the model in test mode (the opposite of model.train(), essentially)\n",
    "    for t, sample in enumerate(loader):\n",
    "        x_var = Variable(sample['clip'].type(dtype))\n",
    "        y_var = sample['Label'].type(dtype)\n",
    "        y_var=y_var.cpu()\n",
    "        scores = model(x_var)\n",
    "        _, preds = scores.data.cpu().max(1)\n",
    "        #print(preds)\n",
    "        #print(y_var)\n",
    "        num_correct += (preds.numpy() == y_var.numpy()).sum()\n",
    "        num_samples += preds.size(0)\n",
    "    acc = float(num_correct) / num_samples\n",
    "    print('Got %d / %d correct (%.2f)' % (num_correct, num_samples, 100 * acc))"
   ]
  },
  {
   "cell_type": "code",
   "execution_count": null,
   "metadata": {
    "collapsed": false,
    "scrolled": true
   },
   "outputs": [
    {
     "name": "stderr",
     "output_type": "stream",
     "text": [
      "c:\\users\\saif\\.py36env\\lib\\site-packages\\torch\\nn\\modules\\container.py:91: UserWarning: Implicit dimension choice for log_softmax has been deprecated. Change the call to include dim=X as an argument.\n",
      "  input = module(input)\n",
      "c:\\users\\saif\\.py36env\\lib\\site-packages\\ipykernel\\__main__.py:13: UserWarning: invalid index of a 0-dim tensor. This will be an error in PyTorch 0.5. Use tensor.item() to convert a 0-dim tensor to a Python number\n"
     ]
    },
    {
     "name": "stdout",
     "output_type": "stream",
     "text": [
      "Starting epoch 1 / 15\n",
      "t = 100, loss = 2.1233\n",
      "t = 200, loss = 1.9098\n",
      "t = 300, loss = 1.6388\n",
      "t = 400, loss = 1.4889\n",
      "Starting epoch 2 / 15\n",
      "t = 100, loss = 1.2548\n",
      "t = 200, loss = 1.2748\n",
      "t = 300, loss = 1.0711\n",
      "t = 400, loss = 1.1467\n",
      "Starting epoch 3 / 15\n",
      "t = 100, loss = 0.7980\n",
      "t = 200, loss = 1.2855\n",
      "t = 300, loss = 0.7904\n",
      "t = 400, loss = 0.8644\n",
      "Starting epoch 4 / 15\n",
      "t = 100, loss = 0.5162\n",
      "t = 200, loss = 1.3189\n",
      "t = 300, loss = 1.0514\n",
      "t = 400, loss = 0.8884\n",
      "Starting epoch 5 / 15\n",
      "t = 100, loss = 0.8768\n",
      "t = 200, loss = 0.7122\n",
      "t = 300, loss = 0.5502\n",
      "t = 400, loss = 0.6836\n",
      "Starting epoch 6 / 15\n",
      "t = 100, loss = 0.7319\n",
      "t = 200, loss = 0.3339\n",
      "t = 300, loss = 0.9095\n",
      "t = 400, loss = 0.7338\n",
      "Starting epoch 7 / 15\n",
      "t = 100, loss = 0.5220\n",
      "t = 200, loss = 0.5465\n",
      "t = 300, loss = 0.5539\n",
      "t = 400, loss = 0.3104\n",
      "Starting epoch 8 / 15\n",
      "t = 100, loss = 0.3864\n",
      "t = 200, loss = 0.2578\n",
      "t = 300, loss = 0.4873\n",
      "t = 400, loss = 0.8002\n",
      "Starting epoch 9 / 15\n",
      "t = 100, loss = 0.5781\n",
      "t = 200, loss = 0.3299\n",
      "t = 300, loss = 0.2917\n",
      "t = 400, loss = 0.5404\n",
      "Starting epoch 10 / 15\n",
      "t = 100, loss = 0.2886\n",
      "t = 200, loss = 0.1469\n",
      "t = 300, loss = 0.6214\n",
      "t = 400, loss = 0.1000\n",
      "Starting epoch 11 / 15\n",
      "t = 100, loss = 0.3956\n",
      "t = 200, loss = 0.2704\n",
      "t = 300, loss = 0.2171\n",
      "t = 400, loss = 0.4387\n",
      "Starting epoch 12 / 15\n",
      "t = 100, loss = 0.1981\n",
      "t = 200, loss = 0.1459\n",
      "t = 300, loss = 0.6196\n",
      "t = 400, loss = 0.2216\n",
      "Starting epoch 13 / 15"
     ]
    }
   ],
   "source": [
    "torch.random.manual_seed(12345)\n",
    "fixed_model_3d.apply(reset) \n",
    "fixed_model_3d.train() \n",
    "train_3d(fixed_model_3d, loss_fn, optimizer,clip_dataloader_train, num_epochs=15) \n",
    "fixed_model_3d.eval() \n",
    "check_accuracy_3d(fixed_model_3d, clip_dataloader_val)"
   ]
  },
  {
   "cell_type": "markdown",
   "metadata": {
    "collapsed": true
   },
   "source": [
    "Test your 3d convolution model on the validation set. You don't need to submit the result of this part to kaggle.  "
   ]
  },
  {
   "cell_type": "markdown",
   "metadata": {
    "collapsed": true
   },
   "source": [
    "Test your model on the test set, predict_on_test_3d() will generate a file named 'results_3d.csv'. Please submit the csv file to kaggle https://www.kaggle.com/c/cse512springhw3video\n",
    "The highest 3 entries get extra 10 points.\n"
   ]
  },
  {
   "cell_type": "code",
   "execution_count": null,
   "metadata": {
    "collapsed": false
   },
   "outputs": [],
   "source": [
    "def predict_on_test_3d(model, loader):\n",
    "    '''\n",
    "    if loader.dataset.train:\n",
    "        print('Checking accuracy on validation set')\n",
    "    else:\n",
    "        print('Checking accuracy on test set')  \n",
    "    '''\n",
    "    num_correct = 0\n",
    "    num_samples = 0\n",
    "    model.eval() # Put the model in test mode (the opposite of model.train(), essentially)\n",
    "    results=open('results_3d.csv','w')\n",
    "    count=0\n",
    "    results.write('Id'+','+'Class'+'\\n')\n",
    "    for t, sample in enumerate(loader):\n",
    "        x_var = Variable(sample['clip'].type(dtype))\n",
    "        scores = model(x_var)\n",
    "        _, preds = scores.data.max(1)\n",
    "        for i in range(len(preds)):\n",
    "            results.write(str(count)+','+str(preds[i].numpy())+'\\n')\n",
    "            count+=1\n",
    "    results.close()\n",
    "    return count\n",
    "    \n",
    "count=predict_on_test_3d(fixed_model_3d, clip_dataloader_test)\n",
    "print(count)"
   ]
  },
  {
   "cell_type": "code",
   "execution_count": null,
   "metadata": {
    "collapsed": true
   },
   "outputs": [],
   "source": []
  }
 ],
 "metadata": {
  "kernelspec": {
   "display_name": "Python 3",
   "language": "python",
   "name": "python3"
  },
  "language_info": {
   "codemirror_mode": {
    "name": "ipython",
    "version": 3
   },
   "file_extension": ".py",
   "mimetype": "text/x-python",
   "name": "python",
   "nbconvert_exporter": "python",
   "pygments_lexer": "ipython3",
   "version": "3.6.6"
  }
 },
 "nbformat": 4,
 "nbformat_minor": 1
}
